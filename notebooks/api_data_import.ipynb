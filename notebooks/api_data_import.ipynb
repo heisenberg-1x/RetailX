{
 "cells": [
  {
   "cell_type": "code",
   "execution_count": 1,
   "id": "49f9058f-1c30-4669-bd25-658606f90233",
   "metadata": {},
   "outputs": [],
   "source": [
    "import requests\n",
    "import json\n",
    "from datetime import datetime\n",
    "import os"
   ]
  },
  {
   "cell_type": "code",
   "execution_count": 2,
   "id": "ddd0ded1-59c7-471a-ad1a-9ca345aa693d",
   "metadata": {},
   "outputs": [],
   "source": [
    "today = datetime.today().strftime('%Y-%m-%d')"
   ]
  },
  {
   "cell_type": "code",
   "execution_count": 5,
   "id": "03c46073-9dce-472f-8f53-543eccf3e1de",
   "metadata": {},
   "outputs": [],
   "source": [
    "endpoints = {\n",
    "    \"products\": \"https://fakestoreapi.com/products\",\n",
    "    \"users\": \"https://fakestoreapi.com/users\",\n",
    "    \"carts\": \"https://fakestoreapi.com/carts\"\n",
    "}"
   ]
  },
  {
   "cell_type": "code",
   "execution_count": 6,
   "id": "c6f3acef-8ce9-4533-be22-3e5e7e198981",
   "metadata": {},
   "outputs": [],
   "source": [
    "output_dir = \"../data_samples\"\n",
    "os.makedirs(output_dir, exist_ok=True) "
   ]
  },
  {
   "cell_type": "code",
   "execution_count": 13,
   "id": "8e1377a9-e3e0-4f9f-9693-a1b4ba6a4fe7",
   "metadata": {},
   "outputs": [
    {
     "name": "stdout",
     "output_type": "stream",
     "text": [
      " Fetching products data...\n",
      " Saved products_2025-05-27.json\n",
      " Fetching users data...\n",
      " Saved users_2025-05-27.json\n",
      " Fetching carts data...\n",
      " Saved carts_2025-05-27.json\n"
     ]
    }
   ],
   "source": [
    "for name, url in endpoints.items():\n",
    "    print(f\" Fetching {name} data...\")\n",
    "    response = requests.get(url)\n",
    "    if response.status_code == 200:\n",
    "        data = response.json()\n",
    "\n",
    "        filename = f\"{name}_{today}.json\"\n",
    "        filepath = os.path.join(output_dir, filename)\n",
    "\n",
    "        with open(filepath, \"w\") as f:\n",
    "            json.dump(data, f, indent=4)\n",
    "        print(f\" Saved {filename}\")\n",
    "    else:\n",
    "         print(f\" Failed to fetch {name}. Status code: {response.status_code}\")\n",
    "\n",
    "    "
   ]
  },
  {
   "cell_type": "code",
   "execution_count": null,
   "id": "2345bbf5-acc1-436d-8616-609a6322074c",
   "metadata": {},
   "outputs": [],
   "source": []
  }
 ],
 "metadata": {
  "kernelspec": {
   "display_name": "Python 3 (ipykernel)",
   "language": "python",
   "name": "python3"
  },
  "language_info": {
   "codemirror_mode": {
    "name": "ipython",
    "version": 3
   },
   "file_extension": ".py",
   "mimetype": "text/x-python",
   "name": "python",
   "nbconvert_exporter": "python",
   "pygments_lexer": "ipython3",
   "version": "3.13.2"
  }
 },
 "nbformat": 4,
 "nbformat_minor": 5
}
