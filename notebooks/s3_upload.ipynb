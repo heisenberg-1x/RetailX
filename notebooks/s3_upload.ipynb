{
 "cells": [
  {
   "cell_type": "code",
   "execution_count": 3,
   "id": "4c706eaf-c722-43bf-936e-c208238682d6",
   "metadata": {},
   "outputs": [],
   "source": [
    "import boto3\n",
    "import os\n",
    "from datetime import datetime"
   ]
  },
  {
   "cell_type": "code",
   "execution_count": 4,
   "id": "3350443f-9657-4415-aeeb-6d5474d573af",
   "metadata": {},
   "outputs": [],
   "source": [
    "bucket_name = 'retailx-data'  \n",
    "date_str = datetime.today().strftime('%Y-%m-%d') \n",
    "s3_folder = f'raw/{date_str}/' "
   ]
  },
  {
   "cell_type": "code",
   "execution_count": 5,
   "id": "ae60d6eb-47e8-44c0-8b7e-bdb58ebf4553",
   "metadata": {},
   "outputs": [],
   "source": [
    "s3 = boto3.client('s3')"
   ]
  },
  {
   "cell_type": "code",
   "execution_count": 8,
   "id": "3f843e56-32cb-435c-83ad-97721e84b8ec",
   "metadata": {},
   "outputs": [
    {
     "name": "stdout",
     "output_type": "stream",
     "text": [
      " Uploading carts_2025-05-27.json to s3://retailx-data/raw/2025-05-27/carts_2025-05-27.json\n",
      " Uploaded: carts_2025-05-27.json\n",
      " Uploading products_2025-05-27.json to s3://retailx-data/raw/2025-05-27/products_2025-05-27.json\n",
      " Uploaded: products_2025-05-27.json\n",
      " Uploading users_2025-05-27.json to s3://retailx-data/raw/2025-05-27/users_2025-05-27.json\n",
      " Uploaded: users_2025-05-27.json\n"
     ]
    }
   ],
   "source": [
    "local_folder = '../data_samples'\n",
    "for filename in os.listdir(local_folder):\n",
    "    if filename.endswith('.json'):  \n",
    "        local_path = os.path.join(local_folder, filename)  \n",
    "        s3_key = s3_folder + filename  \n",
    "\n",
    "        print(f\" Uploading {filename} to s3://{bucket_name}/{s3_key}\")\n",
    "\n",
    "        s3.upload_file(local_path, bucket_name, s3_key)  \n",
    "\n",
    "        print(f\" Uploaded: {filename}\")"
   ]
  }
 ],
 "metadata": {
  "kernelspec": {
   "display_name": "Python 3 (ipykernel)",
   "language": "python",
   "name": "python3"
  },
  "language_info": {
   "codemirror_mode": {
    "name": "ipython",
    "version": 3
   },
   "file_extension": ".py",
   "mimetype": "text/x-python",
   "name": "python",
   "nbconvert_exporter": "python",
   "pygments_lexer": "ipython3",
   "version": "3.13.2"
  }
 },
 "nbformat": 4,
 "nbformat_minor": 5
}
